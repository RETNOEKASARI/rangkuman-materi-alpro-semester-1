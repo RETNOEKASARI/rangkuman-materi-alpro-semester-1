{
 "cells": [
  {
   "cell_type": "code",
   "execution_count": 1,
   "id": "0ffb0f61-5069-412c-86ce-cd4ea2e0f119",
   "metadata": {},
   "outputs": [
    {
     "name": "stdout",
     "output_type": "stream",
     "text": [
      "Nama: Retno Eka sari dan Umur: 18\n",
      "Nama: Retno Eka sari dan Umur: 18\n",
      "\n",
      "\n",
      " rendika dan Sayyid \n"
     ]
    }
   ],
   "source": [
    "# Tipe data\n",
    "bilangan_bulat = 10\n",
    "bilangan_desimal = 3.14\n",
    "teks = \"Halo, dunia!\"\n",
    "teks_multibaris = ' ' 'rendika dan Sayyid' ' '\n",
    "nama = \"Retno Eka sari\"\n",
    "umur = \"18\"\n",
    "boolean = True\n",
    "\n",
    "# Menampilkan nilai variabel\n",
    "print('Nama:', nama, 'dan Umur:', umur) \n",
    "print(f\"Nama: {nama} dan Umur: {umur}\")\n",
    "print('\\n')\n",
    "print(teks_multibaris)"
   ]
  },
  {
   "cell_type": "code",
   "execution_count": 3,
   "id": "5a2d4948-4a2c-4a59-8d2b-2d767b1fe799",
   "metadata": {},
   "outputs": [
    {
     "name": "stdout",
     "output_type": "stream",
     "text": [
      " Nama saaya Sayyid dan umur saya adalah 60 Tahun dan sedang Berkuliah di Institut Teknologi Telkom Surabaya\n"
     ]
    }
   ],
   "source": [
    "nama = \"Sayyid\"\n",
    "a = 10; b = 50\n",
    "kesibukan, keterangan = 'Berkuliah' , 'Institut Teknologi Telkom Surabaya'\n",
    "print(f\" Nama saaya {nama} dan umur saya adalah {a+b} Tahun dan sedang {kesibukan} di {keterangan}\")"
   ]
  },
  {
   "cell_type": "code",
   "execution_count": 7,
   "id": "741d44fb-18a4-4095-8240-030c101ae463",
   "metadata": {},
   "outputs": [
    {
     "name": "stdin",
     "output_type": "stream",
     "text": [
      "Masukkan nama Anda:  Retno\n",
      "Berapa harganya?:  15000\n"
     ]
    },
    {
     "name": "stdout",
     "output_type": "stream",
     "text": [
      "\n",
      "\n",
      "Halo, aku Retno dan aku sudah makan ayam goreng yang harganya Rp 15000\n"
     ]
    }
   ],
   "source": [
    "nama = input(\"Masukkan nama Anda: \")\n",
    "makan = 'sudah'\n",
    "harga = int(input(\"Berapa harganya?: \"))\n",
    "\n",
    "print('\\n')\n",
    "print(\"Halo, aku\", nama, 'dan aku', makan, 'makan ayam goreng yang harganya Rp', harga)"
   ]
  },
  {
   "cell_type": "code",
   "execution_count": 9,
   "id": "9162d78f-73f7-40b0-98ec-e2d990401b7a",
   "metadata": {},
   "outputs": [],
   "source": [
    "import math"
   ]
  },
  {
   "cell_type": "code",
   "execution_count": 11,
   "id": "adb57271-82fe-4da1-9e12-ce9da9a6fd8c",
   "metadata": {},
   "outputs": [
    {
     "name": "stdin",
     "output_type": "stream",
     "text": [
      "masukkan nilai a:  1\n",
      "masukkan nilai b:  -1\n",
      "masukkan nilai c:  -2\n"
     ]
    },
    {
     "name": "stdout",
     "output_type": "stream",
     "text": [
      "2.0 -1.0\n"
     ]
    }
   ],
   "source": [
    "#input\n",
    "a= int(input(\"masukkan nilai a: \"))\n",
    "b= int(input(\"masukkan nilai b: \"))\n",
    "c= int(input(\"masukkan nilai c: \"))\n",
    "#proses\n",
    "x1= (-b + math.sqrt(b**2-4*a*c))/(2*a)\n",
    "x2= (-b - math.sqrt(b**2-4*a*c))/(2*a)\n",
    "\n",
    "print(x1, x2)"
   ]
  },
  {
   "cell_type": "code",
   "execution_count": 23,
   "id": "c4074890-c90d-4791-93a3-55694439ee32",
   "metadata": {},
   "outputs": [
    {
     "name": "stdin",
     "output_type": "stream",
     "text": [
      "nilai a:  2\n",
      "nilai b:  4\n",
      "nilai c:  6\n"
     ]
    },
    {
     "name": "stdout",
     "output_type": "stream",
     "text": [
      "8.0\n",
      "rata_rata = 8.0\n"
     ]
    }
   ],
   "source": [
    "#input\n",
    "a= int(input(\"nilai a: \"))\n",
    "b= int(input(\"nilai b: \"))\n",
    "c= int(input(\"nilai c: \"))\n",
    "#proses\n",
    "rata_rata = a+b+c/3\n",
    "print(rata_rata)\n",
    "#output\n",
    "print(\"rata_rata =\" , rata_rata)"
   ]
  },
  {
   "cell_type": "code",
   "execution_count": 25,
   "id": "390158a1-db3e-4190-8277-4ff6688ca96e",
   "metadata": {},
   "outputs": [
    {
     "name": "stdin",
     "output_type": "stream",
     "text": [
      "masukkan nilai x:  2\n"
     ]
    },
    {
     "name": "stdout",
     "output_type": "stream",
     "text": [
      "nilai f(x) = 27.5\n"
     ]
    }
   ],
   "source": [
    "#Mencari nilai fungsi \n",
    "x = int(input(\"masukkan nilai x: \"))\n",
    "\n",
    "fx =(2*(x**3))+(2*x)+(15/x)\n",
    "print(\"nilai f(x) =\", fx)"
   ]
  },
  {
   "cell_type": "code",
   "execution_count": 29,
   "id": "0d7b9425-c844-48ce-808d-28571458ae65",
   "metadata": {},
   "outputs": [
    {
     "name": "stdin",
     "output_type": "stream",
     "text": [
      "titik x1:  -3\n",
      "titik y1:  4\n",
      "titik x2:  2\n",
      "titik y2:  4\n"
     ]
    },
    {
     "name": "stdout",
     "output_type": "stream",
     "text": [
      "3.1622776601683795\n"
     ]
    }
   ],
   "source": [
    "#Menentukan jarak antar titik\n",
    "x1 = int(input(\"titik x1: \"))\n",
    "y1 = int(input(\"titik y1: \"))\n",
    "x2 = int(input(\"titik x2: \"))\n",
    "y2 = int(input(\"titik y2: \"))\n",
    "\n",
    "d = math.sqrt((((x2-x1))*2) + ((y2-y1)*2))\n",
    "print(d)"
   ]
  }
 ],
 "metadata": {
  "kernelspec": {
   "display_name": "Python 3 (ipykernel)",
   "language": "python",
   "name": "python3"
  },
  "language_info": {
   "codemirror_mode": {
    "name": "ipython",
    "version": 3
   },
   "file_extension": ".py",
   "mimetype": "text/x-python",
   "name": "python",
   "nbconvert_exporter": "python",
   "pygments_lexer": "ipython3",
   "version": "3.12.4"
  }
 },
 "nbformat": 4,
 "nbformat_minor": 5
}
